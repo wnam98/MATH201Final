{
 "cells": [
  {
   "cell_type": "code",
   "execution_count": 14,
   "metadata": {},
   "outputs": [],
   "source": [
    "#Author: Walter Nam\n",
    "import sys\n",
    "import pprint\n",
    "import numpy as np \n",
    "import scipy as sp\n",
    "import sympy\n",
    "from scipy import linalg"
   ]
  },
  {
   "cell_type": "code",
   "execution_count": 15,
   "metadata": {},
   "outputs": [],
   "source": [
    "class Data:\n",
    "\n",
    "    def __init__(self, A, b):\n",
    "        self.A = A\n",
    "        self.b = b\n",
    "\n",
    "    def computed_sol(self, A, b):\n",
    "        print(\"Numpy solution\")\n",
    "        try:\n",
    "            return np.linalg.solve(A,b) \n",
    "        except np.linalg.LinAlgError:\n",
    "            print(\"No solution\")\n",
    "            return None\n",
    "\n",
    "    def gaussian(self, A, b):\n",
    "        n = len(b)\n",
    "        x = np.zeros(n, float)\n",
    "        for i in range (n-1):\n",
    "            if np.fabs(A[i,i]) < sys.maxsize:\n",
    "                for j in range(i+1, n):\n",
    "                    if np.fabs(A[j,i]) > np.fabs(A[i,i]):\n",
    "                        A[[i,j]] = A[[j,i]]\n",
    "                        b[[i,j]] = b[[j,i]]\n",
    "                        break\n",
    "            for k in range (i+1, n):\n",
    "                if A[k,i] == 0: continue\n",
    "                factor = A[i,i] / A[k,i]\n",
    "                for j in range(i,n):\n",
    "                    A[k,j] = A[i,j] - A[k,j] * factor\n",
    "                b[k] = b[i] - b[k] * factor\n",
    "\n",
    "        #Backward substitution\n",
    "        x[n - 1] = b[n - 1] / A[n - 1, n - 1]\n",
    "        for i in range(n - 2, -1, -1):\n",
    "            sum_ax = 0\n",
    "            for j in range(i + 1, n):\n",
    "                sum_ax += A[i, j] * x[j]\n",
    "            x[i] = (b[i] - sum_ax) / A[i,i] \n",
    "\n",
    "        return A, b, x\n",
    "\n",
    "    def check_valid_solution(self, A, b, gauss, free_variable_solution):\n",
    "        solution = gauss(A, b)[2]\n",
    "        b_0 = gauss(A, b)[1]\n",
    "        A_0 = gauss(A, b)[0]\n",
    "        if np.isnan(solution[0]):\n",
    "            print(\"There are an infinite number of solutions\")\n",
    "            print(\"Solution with free variable = 1\")\n",
    "            fv = 1\n",
    "            free_variable_solution(A_0, b_0, fv, solution)\n",
    "            print(\"Solution with free variable = -1\")\n",
    "            fv = -1\n",
    "            free_variable_solution(A_0, b_0, fv, solution)\n",
    "            return \"\"\n",
    "        elif np.isinf(solution[0]):\n",
    "            print(\"No Solution\")\n",
    "            return \"\"\n",
    "        else:\n",
    "            print(\"Solution vector\")\n",
    "            print(solution)\n",
    "            return \"\"\n",
    "        \n",
    "    def free_variable_solution(self, A_0, b_0, free_variable, solution_vector):\n",
    "        x2 = free_variable\n",
    "        x3 = solution_vector[len(solution_vector) - 1]\n",
    "        x = sympy.symbols('x')\n",
    "        expr = b_0[0] - A_0[0][0]*x - A_0[0][1]*x2  - A_0[0][2]*x3  \n",
    "        x1 = sympy.solve(expr)\n",
    "        print(np.array([x1[0], x2, x3], float))\n",
    "    \n",
    "    def lu_decomp(self, A):\n",
    "        (P, L, U) = sp.linalg.lu(A)\n",
    "        print(\"L factor:\")\n",
    "        pprint.pprint(L)\n",
    "        print(\"U factor:\")\n",
    "        pprint.pprint(U)\n",
    "        return \"\""
   ]
  },
  {
   "cell_type": "code",
   "execution_count": 16,
   "metadata": {},
   "outputs": [
    {
     "name": "stdout",
     "output_type": "stream",
     "text": [
      "Solution vector\n",
      "[-7.  3.  2.  2.]\n",
      "\n",
      "L factor:\n",
      "array([[ 1.,  0.,  0.,  0.],\n",
      "       [ 0.,  1.,  0.,  0.],\n",
      "       [ 0., -0.,  1.,  0.],\n",
      "       [ 0., -0., -0.,  1.]])\n",
      "U factor:\n",
      "array([[ 2., -2.,  3., -3.],\n",
      "       [ 0., -4.,  1., -3.],\n",
      "       [ 0.,  0., -5., -9.],\n",
      "       [ 0.,  0.,  0., -4.]])\n",
      "\n"
     ]
    }
   ],
   "source": [
    "A = np.array([\n",
    "    [1,-1,2,-1],\n",
    "    [2,-2,3,-3],\n",
    "    [1,1,1,0],\n",
    "    [1,-1,4,3]\n",
    "    ], \n",
    "    float)\n",
    "\n",
    "b = np.array([-8,-20,-2,4], float)\n",
    "data = Data(A, b)\n",
    "print(data.check_valid_solution(A, b, data.gaussian, data.free_variable_solution))\n",
    "print(data.lu_decomp(A))"
   ]
  },
  {
   "cell_type": "code",
   "execution_count": 17,
   "metadata": {},
   "outputs": [
    {
     "name": "stdout",
     "output_type": "stream",
     "text": [
      "There are an infinite number of solutions\n",
      "Solution with free variable = 1\n",
      "[1. 1. 2.]\n",
      "Solution with free variable = -1\n",
      "[ 3. -1.  2.]\n",
      "\n",
      "L factor:\n",
      "array([[1., 0., 0.],\n",
      "       [0., 1., 0.],\n",
      "       [0., 0., 1.]])\n",
      "U factor:\n",
      "array([[ 2.,  2.,  1.],\n",
      "       [ 0.,  0., -1.],\n",
      "       [ 0.,  0., -3.]])\n",
      "\n"
     ]
    },
    {
     "name": "stderr",
     "output_type": "stream",
     "text": [
      "C:\\Users\\aircr\\Anaconda3\\lib\\site-packages\\ipykernel_launcher.py:38: RuntimeWarning: invalid value encountered in double_scalars\n"
     ]
    }
   ],
   "source": [
    "A = np.array([\n",
    "    [1,1,1],\n",
    "    [2,2,1],\n",
    "    [1,1,2]\n",
    "    ], \n",
    "    float)\n",
    "\n",
    "b = np.array([4,6,6], float)\n",
    "data = Data(A, b)\n",
    "print(data.check_valid_solution(A, b, data.gaussian, data.free_variable_solution))\n",
    "print(data.lu_decomp(A))"
   ]
  },
  {
   "cell_type": "code",
   "execution_count": 18,
   "metadata": {},
   "outputs": [
    {
     "name": "stdout",
     "output_type": "stream",
     "text": [
      "No Solution\n",
      "\n",
      "L factor:\n",
      "array([[1., 0., 0.],\n",
      "       [0., 1., 0.],\n",
      "       [0., 0., 1.]])\n",
      "U factor:\n",
      "array([[ 2.,  2.,  1.],\n",
      "       [ 0.,  0., -1.],\n",
      "       [ 0.,  0., -3.]])\n",
      "\n"
     ]
    },
    {
     "name": "stderr",
     "output_type": "stream",
     "text": [
      "C:\\Users\\aircr\\Anaconda3\\lib\\site-packages\\ipykernel_launcher.py:38: RuntimeWarning: divide by zero encountered in double_scalars\n"
     ]
    }
   ],
   "source": [
    "A = np.array([\n",
    "    [1,1,1],\n",
    "    [2,2,1],\n",
    "    [1,1,2]\n",
    "    ], \n",
    "    float)\n",
    "\n",
    "b = np.array([4,4,6], float)\n",
    "data = Data(A, b)\n",
    "print(data.check_valid_solution(A, b, data.gaussian, data.free_variable_solution))\n",
    "print(data.lu_decomp(A))"
   ]
  }
 ],
 "metadata": {
  "kernelspec": {
   "display_name": "Python 3",
   "language": "python",
   "name": "python3"
  },
  "language_info": {
   "codemirror_mode": {
    "name": "ipython",
    "version": 3
   },
   "file_extension": ".py",
   "mimetype": "text/x-python",
   "name": "python",
   "nbconvert_exporter": "python",
   "pygments_lexer": "ipython3",
   "version": "3.7.4"
  }
 },
 "nbformat": 4,
 "nbformat_minor": 2
}
