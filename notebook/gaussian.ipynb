{
 "cells": [
  {
   "cell_type": "code",
   "execution_count": 48,
   "metadata": {},
   "outputs": [],
   "source": [
    "#Author: Walter Nam\n",
    "import sys\n",
    "import numpy as np\n",
    "from sympy import Matrix\n",
    "from sympy import init_printing"
   ]
  },
  {
   "cell_type": "code",
   "execution_count": 49,
   "metadata": {},
   "outputs": [],
   "source": [
    "class Data:\n",
    "    def __init__(self, A, b):\n",
    "        self.A = A\n",
    "        self.b = b\n",
    "\n",
    "    def computed_sol(self, A, b):\n",
    "        print(\"Numpy solution\")\n",
    "        return np.linalg.solve(A,b)\n",
    "\n",
    "    def gauss_jordan(self, A, b):\n",
    "        n = len(b)\n",
    "        x = np.zeros(n, float)\n",
    "        for i in range (n-1):\n",
    "            if np.fabs(A[i,i]) < sys.maxsize:\n",
    "                for j in range(i+1, n):\n",
    "                    if np.fabs(A[j,i]) > np.fabs(A[i,i]):\n",
    "                        A[[i,j]] = A[[j,i]]\n",
    "                        b[[i,j]] = b[[j,i]]\n",
    "                        break\n",
    "            for k in range (i+1, n):\n",
    "                if A[k,i] == 0: continue\n",
    "                factor = A[i,i] / A[k,i]\n",
    "                for j in range(i,n):\n",
    "                    A[k,j] = A[i,j] - A[k,j] * factor\n",
    "                b[k] = b[i] - b[k] * factor\n",
    "        #print(A)\n",
    "        #print(b)\n",
    "        #Backward Substitution\n",
    "        x[n - 1] = b[n - 1] / A[n - 1, n - 1]\n",
    "        for i in range(n - 2, -1, -1):\n",
    "            sum_ax = 0\n",
    "            for j in range(i + 1, n):\n",
    "                sum_ax += A[i, j] * x[j]\n",
    "            x[i] = (b[i] - sum_ax) / A[i,i]\n",
    "    \n",
    "        print(\"Solution of the system\")\n",
    "        print(x)"
   ]
  },
  {
   "cell_type": "code",
   "execution_count": 50,
   "metadata": {},
   "outputs": [
    {
     "data": {
      "text/plain": [
       "(<module 'sympy' from 'C:\\\\Users\\\\aircr\\\\Anaconda3\\\\lib\\\\site-packages\\\\sympy\\\\__init__.py'>,\n",
       " None)"
      ]
     },
     "execution_count": 50,
     "metadata": {},
     "output_type": "execute_result"
    }
   ],
   "source": [
    "A = Matrix([[1, -1, 2,-1],\n",
    "    [2,-2, 3, -3],\n",
    "    [1, 1, 1, 0],\n",
    "    [1, -1, 4, 3]])\n",
    "sp,init_printing()"
   ]
  },
  {
   "cell_type": "code",
   "execution_count": 51,
   "metadata": {},
   "outputs": [
    {
     "name": "stdout",
     "output_type": "stream",
     "text": [
      "Numpy solution\n",
      "[-7.  3.  2.  2.]\n",
      "Solution of the system\n",
      "[-7.  3.  2.  2.]\n",
      "None\n"
     ]
    }
   ],
   "source": [
    "A = np.array([\n",
    "    [1, -1, 2,-1],\n",
    "    [2,-2, 3, -3],\n",
    "    [1, 1, 1, 0],\n",
    "    [1, -1, 4, 3]], \n",
    "    float)\n",
    "\n",
    "b = np.array([-8, -20, -2, 4], float)\n",
    "data = Data(A, b)\n",
    "print(data.computed_sol(A,b))\n",
    "print(data.gauss_jordan(A, b))"
   ]
  }
 ],
 "metadata": {
  "kernelspec": {
   "display_name": "Python 3",
   "language": "python",
   "name": "python3"
  },
  "language_info": {
   "codemirror_mode": {
    "name": "ipython",
    "version": 3
   },
   "file_extension": ".py",
   "mimetype": "text/x-python",
   "name": "python",
   "nbconvert_exporter": "python",
   "pygments_lexer": "ipython3",
   "version": "3.7.4"
  }
 },
 "nbformat": 4,
 "nbformat_minor": 2
}
